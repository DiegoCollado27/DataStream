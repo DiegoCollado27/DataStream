{
 "cells": [
  {
   "cell_type": "code",
   "execution_count": 5,
   "metadata": {},
   "outputs": [
    {
     "name": "stdout",
     "output_type": "stream",
     "text": [
      "Downloading https://maxhalford.github.io/files/datasets/creditcardfraud.zip (65.95 MB)\n"
     ]
    }
   ],
   "source": [
    "from river.drift import ADWIN\n",
    "from river import ensemble\n",
    "from river import tree\n",
    "from river import datasets\n",
    "from river import metrics\n",
    "from river import anomaly\n",
    "from sklearn.ensemble import IsolationForest\n",
    "from sklearn.model_selection import train_test_split\n",
    "import matplotlib.pyplot as plt\n",
    "import pandas as pd\n",
    "\n",
    "\n",
    "\n",
    "# Crea instancias de los algoritmos y métricas\n",
    "adwin = ADWIN()\n",
    "model = tree.HoeffdingTreeClassifier(grace_period=10)\n",
    "metric_acc = metrics.Accuracy()\n",
    "metric_f1 = metrics.F1()\n",
    "\n",
    "# Inicializa el detector de outliers\n",
    "#isolation_forest = anomaly.IsolationForest()\n",
    "isolation_forest = IsolationForest(contamination=0.05)\n",
    "\n",
    "# Carga el conjunto de datos\n",
    "data = datasets.CreditCard()\n",
    "\n",
    "#plt.plot(data['Level'])\n",
    "\n",
    "# Inicializa una variable para almacenar las columnas\n",
    "columnas = set()\n",
    "\n",
    "# Itera a través de los datos y registra las columnas\n",
    "for x, _ in data:\n",
    "    columnas.update(x.keys())\n",
    "\n",
    "# Muestra las columnas\n",
    "print(\"Columnas del conjunto de datos:\")\n",
    "for columna in columnas:\n",
    "    print(columna)\n",
    "\n",
    "# Inicializa variables para el seguimiento\n",
    "n_samples = 0\n",
    "change_detected = False\n",
    "\n",
    "\n",
    "# Itera a través de los datos en tiempo real\n",
    "for x, y in data:\n",
    "    n_samples += 1\n",
    "\n",
    "    # Realiza la detección de cambios\n",
    "    if n_samples <= 200000:\n",
    "        # Realiza el entrenamiento inicial con las primeras 50,000 muestras\n",
    "        y_pred = model.predict_one(x)\n",
    "        model.learn_one(x, y)\n",
    "    else:\n",
    "        if adwin.update(y):\n",
    "            change_detected = True\n",
    "            print(f\"Change detected at sample {n_samples}\")\n",
    "\n",
    "        # Actualiza el clasificador de ensamble con los nuevos datos\n",
    "        y_pred = model.predict_one(x)\n",
    "        model.learn_one(x, y)\n",
    "\n",
    "        # Evalúa el rendimiento\n",
    "        metric_acc.update(y, y_pred)\n",
    "        metric_f1.update(y, y_pred)\n",
    "\n",
    "# Muestra las métricas finales\n",
    "print(f\"Number of samples: {n_samples}\")\n",
    "print(\"Accuracy:\", metric_acc.get())\n",
    "print(\"F1 Score:\", metric_f1.get())\n"
   ]
  }
 ],
 "metadata": {
  "kernelspec": {
   "display_name": "default",
   "language": "python",
   "name": "python3"
  },
  "language_info": {
   "codemirror_mode": {
    "name": "ipython",
    "version": 3
   },
   "file_extension": ".py",
   "mimetype": "text/x-python",
   "name": "python",
   "nbconvert_exporter": "python",
   "pygments_lexer": "ipython3",
   "version": "3.11.2"
  }
 },
 "nbformat": 4,
 "nbformat_minor": 2
}
